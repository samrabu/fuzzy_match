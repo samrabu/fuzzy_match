{
 "cells": [
  {
   "cell_type": "code",
   "execution_count": 1,
   "metadata": {},
   "outputs": [],
   "source": [
    "import pandas as pd\n",
    "from fuzzy import ExtractiveFuzzy"
   ]
  },
  {
   "cell_type": "code",
   "execution_count": 2,
   "metadata": {},
   "outputs": [],
   "source": [
    "data = pd.read_csv('FakeNameGenerator.com_2612d063.csv')\n",
    "data['name'] = data['Surname'] + ' ' + data['GivenName']"
   ]
  },
  {
   "cell_type": "code",
   "execution_count": 5,
   "metadata": {},
   "outputs": [],
   "source": [
    "model = ExtractiveFuzzy(n_top=3, n_jobs=3)\n",
    "res = model.fit_transform(X=data[['name']].iloc[:1500].values.tolist(), y=data[['name']].iloc[1500:].values.tolist())"
   ]
  },
  {
   "cell_type": "code",
   "execution_count": 8,
   "metadata": {},
   "outputs": [
    {
     "data": {
      "text/html": [
       "<div>\n",
       "<style scoped>\n",
       "    .dataframe tbody tr th:only-of-type {\n",
       "        vertical-align: middle;\n",
       "    }\n",
       "\n",
       "    .dataframe tbody tr th {\n",
       "        vertical-align: top;\n",
       "    }\n",
       "\n",
       "    .dataframe thead th {\n",
       "        text-align: right;\n",
       "    }\n",
       "</style>\n",
       "<table border=\"1\" class=\"dataframe\">\n",
       "  <thead>\n",
       "    <tr style=\"text-align: right;\">\n",
       "      <th></th>\n",
       "      <th>0_x</th>\n",
       "      <th>index_max</th>\n",
       "      <th>score</th>\n",
       "      <th>0_y</th>\n",
       "    </tr>\n",
       "  </thead>\n",
       "  <tbody>\n",
       "    <tr>\n",
       "      <th>0</th>\n",
       "      <td>Tachel Grégoire</td>\n",
       "      <td>473</td>\n",
       "      <td>0.685738</td>\n",
       "      <td>Parizeau Grégoire</td>\n",
       "    </tr>\n",
       "    <tr>\n",
       "      <th>1</th>\n",
       "      <td>Tachel Grégoire</td>\n",
       "      <td>807</td>\n",
       "      <td>0.636351</td>\n",
       "      <td>Frappier Grégoire</td>\n",
       "    </tr>\n",
       "    <tr>\n",
       "      <th>2</th>\n",
       "      <td>Tachel Grégoire</td>\n",
       "      <td>1374</td>\n",
       "      <td>0.61325</td>\n",
       "      <td>Berthelette Grégoire</td>\n",
       "    </tr>\n",
       "    <tr>\n",
       "      <th>3</th>\n",
       "      <td>Marcheterre Alexis</td>\n",
       "      <td>309</td>\n",
       "      <td>0.656582</td>\n",
       "      <td>Marcheterre Ormazd</td>\n",
       "    </tr>\n",
       "    <tr>\n",
       "      <th>4</th>\n",
       "      <td>Marcheterre Alexis</td>\n",
       "      <td>327</td>\n",
       "      <td>0.615103</td>\n",
       "      <td>Marcheterre Camille</td>\n",
       "    </tr>\n",
       "    <tr>\n",
       "      <th>...</th>\n",
       "      <td>...</td>\n",
       "      <td>...</td>\n",
       "      <td>...</td>\n",
       "      <td>...</td>\n",
       "    </tr>\n",
       "    <tr>\n",
       "      <th>1495</th>\n",
       "      <td>Bazin Nicolas</td>\n",
       "      <td>1104</td>\n",
       "      <td>0.546786</td>\n",
       "      <td>Parent Nicolas</td>\n",
       "    </tr>\n",
       "    <tr>\n",
       "      <th>1496</th>\n",
       "      <td>Bazin Nicolas</td>\n",
       "      <td>656</td>\n",
       "      <td>0.525073</td>\n",
       "      <td>Racine Nicolas</td>\n",
       "    </tr>\n",
       "    <tr>\n",
       "      <th>1497</th>\n",
       "      <td>Lacombe Roch</td>\n",
       "      <td>200</td>\n",
       "      <td>0.614671</td>\n",
       "      <td>Lacombe Hugues</td>\n",
       "    </tr>\n",
       "    <tr>\n",
       "      <th>1498</th>\n",
       "      <td>Lacombe Roch</td>\n",
       "      <td>191</td>\n",
       "      <td>0.335821</td>\n",
       "      <td>Coulombe Nouel</td>\n",
       "    </tr>\n",
       "    <tr>\n",
       "      <th>1499</th>\n",
       "      <td>Lacombe Roch</td>\n",
       "      <td>965</td>\n",
       "      <td>0.326005</td>\n",
       "      <td>Coulombe Josette</td>\n",
       "    </tr>\n",
       "  </tbody>\n",
       "</table>\n",
       "<p>4500 rows × 4 columns</p>\n",
       "</div>"
      ],
      "text/plain": [
       "                     0_x index_max     score                   0_y\n",
       "0        Tachel Grégoire       473  0.685738     Parizeau Grégoire\n",
       "1        Tachel Grégoire       807  0.636351     Frappier Grégoire\n",
       "2        Tachel Grégoire      1374   0.61325  Berthelette Grégoire\n",
       "3     Marcheterre Alexis       309  0.656582    Marcheterre Ormazd\n",
       "4     Marcheterre Alexis       327  0.615103   Marcheterre Camille\n",
       "...                  ...       ...       ...                   ...\n",
       "1495       Bazin Nicolas      1104  0.546786        Parent Nicolas\n",
       "1496       Bazin Nicolas       656  0.525073        Racine Nicolas\n",
       "1497        Lacombe Roch       200  0.614671        Lacombe Hugues\n",
       "1498        Lacombe Roch       191  0.335821        Coulombe Nouel\n",
       "1499        Lacombe Roch       965  0.326005      Coulombe Josette\n",
       "\n",
       "[4500 rows x 4 columns]"
      ]
     },
     "execution_count": 8,
     "metadata": {},
     "output_type": "execute_result"
    }
   ],
   "source": [
    "res"
   ]
  },
  {
   "cell_type": "code",
   "execution_count": null,
   "metadata": {},
   "outputs": [],
   "source": []
  }
 ],
 "metadata": {
  "kernelspec": {
   "display_name": "Python 3",
   "language": "python",
   "name": "python3"
  },
  "language_info": {
   "codemirror_mode": {
    "name": "ipython",
    "version": 3
   },
   "file_extension": ".py",
   "mimetype": "text/x-python",
   "name": "python",
   "nbconvert_exporter": "python",
   "pygments_lexer": "ipython3",
   "version": "3.10.7 (v3.10.7:6cc6b13308, Sep  5 2022, 14:02:52) [Clang 13.0.0 (clang-1300.0.29.30)]"
  },
  "orig_nbformat": 4,
  "vscode": {
   "interpreter": {
    "hash": "aee8b7b246df8f9039afb4144a1f6fd8d2ca17a180786b69acc140d282b71a49"
   }
  }
 },
 "nbformat": 4,
 "nbformat_minor": 2
}
